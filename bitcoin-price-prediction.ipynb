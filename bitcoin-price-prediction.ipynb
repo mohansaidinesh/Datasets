{
 "cells": [
  {
   "cell_type": "markdown",
   "id": "3ddc9207",
   "metadata": {
    "papermill": {
     "duration": 0.013066,
     "end_time": "2023-06-03T23:42:35.350328",
     "exception": false,
     "start_time": "2023-06-03T23:42:35.337262",
     "status": "completed"
    },
    "tags": []
   },
   "source": [
    "## Bitcoin Price Prediction\n",
    "\n",
    "This notebook focuses on predicting the price of Bitcoin using the Autoregressive Integrated Moving Average (ARIMA) model. The goal is to leverage historical Bitcoin price data to develop a forecasting model that can provide insights into future price movements.\n",
    "\n",
    "The dataset used in this analysis is the \"Bitcoin Historical Data\" from Kaggle, which contains daily Bitcoin price information including open, high, low, close prices, as well as volume and weighted price. The dataset spans a specific time range and provides a valuable resource for training and evaluating the predictive model.\n",
    "\n",
    "The notebook is structured as follows:\n",
    "\n",
    "1. Data Preparation\n",
    "\n",
    "2. Exploratory Data Analysis (EDA)\n",
    "\n",
    "3. Feature Engineering\n",
    "\n",
    "4. Model Training and Evaluation\n",
    "\n",
    "5. Conclusion and Future Work\n",
    "\n",
    "By the end of this notebook, we aim to have a well-performing ARIMA model that can make reliable predictions of Bitcoin prices. This information can be valuable for traders, investors, and anyone interested in understanding and forecasting cryptocurrency market trends.\n",
    "\n",
    "Let's get started with the data preparation and exploration!\n"
   ]
  },
  {
   "cell_type": "code",
   "execution_count": 1,
   "id": "b9ec95c7",
   "metadata": {
    "_cell_guid": "b1076dfc-b9ad-4769-8c92-a6c4dae69d19",
    "_uuid": "8f2839f25d086af736a60e9eeb907d3b93b6e0e5",
    "execution": {
     "iopub.execute_input": "2023-06-03T23:42:35.374972Z",
     "iopub.status.busy": "2023-06-03T23:42:35.373743Z",
     "iopub.status.idle": "2023-06-03T23:42:35.391300Z",
     "shell.execute_reply": "2023-06-03T23:42:35.390387Z"
    },
    "papermill": {
     "duration": 0.03234,
     "end_time": "2023-06-03T23:42:35.393672",
     "exception": false,
     "start_time": "2023-06-03T23:42:35.361332",
     "status": "completed"
    },
    "tags": []
   },
   "outputs": [],
   "source": [
    "# This Python 3 environment comes with many helpful analytics libraries installed\n",
    "# For example, here's several helpful packages to load\n",
    "\n",
    "import numpy as np # linear algebra\n",
    "import pandas as pd # data processing, CSV file I/O (e.g. pd.read_csv)\n",
    "\n",
    "# Input data files are available in the read-only \"../input/\" directory\n",
    "# For example, running this (by clicking run or pressing Shift+Enter) will list all files under the input directory\n",
    "\n",
    "import os\n",
    "for dirname, _, filenames in os.walk('/kaggle/input'):\n",
    "    for filename in filenames:\n",
    "        print(os.path.join(dirname, filename))\n",
    "\n",
    "# You can write up to 20GB to the current directory (/kaggle/working/) that gets preserved as output when you create a version using \"Save & Run All\" \n",
    "# You can also write temporary files to /kaggle/temp/, but they won't be saved outside of the current session"
   ]
  },
  {
   "cell_type": "code",
   "execution_count": 2,
   "id": "0480729e",
   "metadata": {
    "execution": {
     "iopub.execute_input": "2023-06-03T23:42:35.417256Z",
     "iopub.status.busy": "2023-06-03T23:42:35.416456Z",
     "iopub.status.idle": "2023-06-03T23:42:44.223850Z",
     "shell.execute_reply": "2023-06-03T23:42:44.222700Z"
    },
    "papermill": {
     "duration": 8.82263,
     "end_time": "2023-06-03T23:42:44.226971",
     "exception": false,
     "start_time": "2023-06-03T23:42:35.404341",
     "status": "completed"
    },
    "tags": []
   },
   "outputs": [],
   "source": [
    "# Load the dataset\n",
    "data = pd.read_csv('bitstampUSD_1-min_data_2012-01-01_to_2021-03-31.csv')"
   ]
  },
  {
   "cell_type": "markdown",
   "id": "d24afe43",
   "metadata": {
    "papermill": {
     "duration": 0.011013,
     "end_time": "2023-06-03T23:42:44.248998",
     "exception": false,
     "start_time": "2023-06-03T23:42:44.237985",
     "status": "completed"
    },
    "tags": []
   },
   "source": [
    "## Understand Data"
   ]
  },
  {
   "cell_type": "code",
   "execution_count": 4,
   "id": "710a5473",
   "metadata": {
    "execution": {
     "iopub.execute_input": "2023-06-03T23:42:44.271766Z",
     "iopub.status.busy": "2023-06-03T23:42:44.271396Z",
     "iopub.status.idle": "2023-06-03T23:42:44.293265Z",
     "shell.execute_reply": "2023-06-03T23:42:44.291992Z"
    },
    "papermill": {
     "duration": 0.036728,
     "end_time": "2023-06-03T23:42:44.296374",
     "exception": false,
     "start_time": "2023-06-03T23:42:44.259646",
     "status": "completed"
    },
    "tags": []
   },
   "outputs": [
    {
     "data": {
      "text/html": [
       "<div>\n",
       "<style scoped>\n",
       "    .dataframe tbody tr th:only-of-type {\n",
       "        vertical-align: middle;\n",
       "    }\n",
       "\n",
       "    .dataframe tbody tr th {\n",
       "        vertical-align: top;\n",
       "    }\n",
       "\n",
       "    .dataframe thead th {\n",
       "        text-align: right;\n",
       "    }\n",
       "</style>\n",
       "<table border=\"1\" class=\"dataframe\">\n",
       "  <thead>\n",
       "    <tr style=\"text-align: right;\">\n",
       "      <th></th>\n",
       "      <th>Timestamp</th>\n",
       "      <th>Open</th>\n",
       "      <th>High</th>\n",
       "      <th>Low</th>\n",
       "      <th>Close</th>\n",
       "      <th>Volume_(BTC)</th>\n",
       "      <th>Volume_(Currency)</th>\n",
       "      <th>Weighted_Price</th>\n",
       "    </tr>\n",
       "  </thead>\n",
       "  <tbody>\n",
       "    <tr>\n",
       "      <th>0</th>\n",
       "      <td>1325317920</td>\n",
       "      <td>4.39</td>\n",
       "      <td>4.39</td>\n",
       "      <td>4.39</td>\n",
       "      <td>4.39</td>\n",
       "      <td>0.455581</td>\n",
       "      <td>2.0</td>\n",
       "      <td>4.39</td>\n",
       "    </tr>\n",
       "    <tr>\n",
       "      <th>1</th>\n",
       "      <td>1325317980</td>\n",
       "      <td>NaN</td>\n",
       "      <td>NaN</td>\n",
       "      <td>NaN</td>\n",
       "      <td>NaN</td>\n",
       "      <td>NaN</td>\n",
       "      <td>NaN</td>\n",
       "      <td>NaN</td>\n",
       "    </tr>\n",
       "    <tr>\n",
       "      <th>2</th>\n",
       "      <td>1325318040</td>\n",
       "      <td>NaN</td>\n",
       "      <td>NaN</td>\n",
       "      <td>NaN</td>\n",
       "      <td>NaN</td>\n",
       "      <td>NaN</td>\n",
       "      <td>NaN</td>\n",
       "      <td>NaN</td>\n",
       "    </tr>\n",
       "    <tr>\n",
       "      <th>3</th>\n",
       "      <td>1325318100</td>\n",
       "      <td>NaN</td>\n",
       "      <td>NaN</td>\n",
       "      <td>NaN</td>\n",
       "      <td>NaN</td>\n",
       "      <td>NaN</td>\n",
       "      <td>NaN</td>\n",
       "      <td>NaN</td>\n",
       "    </tr>\n",
       "    <tr>\n",
       "      <th>4</th>\n",
       "      <td>1325318160</td>\n",
       "      <td>NaN</td>\n",
       "      <td>NaN</td>\n",
       "      <td>NaN</td>\n",
       "      <td>NaN</td>\n",
       "      <td>NaN</td>\n",
       "      <td>NaN</td>\n",
       "      <td>NaN</td>\n",
       "    </tr>\n",
       "  </tbody>\n",
       "</table>\n",
       "</div>"
      ],
      "text/plain": [
       "    Timestamp  Open  High   Low  Close  Volume_(BTC)  Volume_(Currency)  \\\n",
       "0  1325317920  4.39  4.39  4.39   4.39      0.455581                2.0   \n",
       "1  1325317980   NaN   NaN   NaN    NaN           NaN                NaN   \n",
       "2  1325318040   NaN   NaN   NaN    NaN           NaN                NaN   \n",
       "3  1325318100   NaN   NaN   NaN    NaN           NaN                NaN   \n",
       "4  1325318160   NaN   NaN   NaN    NaN           NaN                NaN   \n",
       "\n",
       "   Weighted_Price  \n",
       "0            4.39  \n",
       "1             NaN  \n",
       "2             NaN  \n",
       "3             NaN  \n",
       "4             NaN  "
      ]
     },
     "execution_count": 4,
     "metadata": {},
     "output_type": "execute_result"
    }
   ],
   "source": [
    "# Display the first few rows of the dataset\n",
    "data.head()"
   ]
  },
  {
   "cell_type": "code",
   "execution_count": 6,
   "id": "d15294b4",
   "metadata": {},
   "outputs": [
    {
     "data": {
      "text/html": [
       "<div>\n",
       "<style scoped>\n",
       "    .dataframe tbody tr th:only-of-type {\n",
       "        vertical-align: middle;\n",
       "    }\n",
       "\n",
       "    .dataframe tbody tr th {\n",
       "        vertical-align: top;\n",
       "    }\n",
       "\n",
       "    .dataframe thead th {\n",
       "        text-align: right;\n",
       "    }\n",
       "</style>\n",
       "<table border=\"1\" class=\"dataframe\">\n",
       "  <thead>\n",
       "    <tr style=\"text-align: right;\">\n",
       "      <th></th>\n",
       "      <th>Timestamp</th>\n",
       "      <th>Open</th>\n",
       "      <th>High</th>\n",
       "      <th>Low</th>\n",
       "      <th>Close</th>\n",
       "      <th>Volume_(BTC)</th>\n",
       "      <th>Volume_(Currency)</th>\n",
       "      <th>Weighted_Price</th>\n",
       "    </tr>\n",
       "  </thead>\n",
       "  <tbody>\n",
       "    <tr>\n",
       "      <th>4857372</th>\n",
       "      <td>1617148560</td>\n",
       "      <td>58714.31</td>\n",
       "      <td>58714.31</td>\n",
       "      <td>58686.00</td>\n",
       "      <td>58686.00</td>\n",
       "      <td>1.384487</td>\n",
       "      <td>81259.372187</td>\n",
       "      <td>58692.753339</td>\n",
       "    </tr>\n",
       "    <tr>\n",
       "      <th>4857373</th>\n",
       "      <td>1617148620</td>\n",
       "      <td>58683.97</td>\n",
       "      <td>58693.43</td>\n",
       "      <td>58683.97</td>\n",
       "      <td>58685.81</td>\n",
       "      <td>7.294848</td>\n",
       "      <td>428158.146640</td>\n",
       "      <td>58693.226508</td>\n",
       "    </tr>\n",
       "    <tr>\n",
       "      <th>4857374</th>\n",
       "      <td>1617148680</td>\n",
       "      <td>58693.43</td>\n",
       "      <td>58723.84</td>\n",
       "      <td>58693.43</td>\n",
       "      <td>58723.84</td>\n",
       "      <td>1.705682</td>\n",
       "      <td>100117.070370</td>\n",
       "      <td>58696.198496</td>\n",
       "    </tr>\n",
       "    <tr>\n",
       "      <th>4857375</th>\n",
       "      <td>1617148740</td>\n",
       "      <td>58742.18</td>\n",
       "      <td>58770.38</td>\n",
       "      <td>58742.18</td>\n",
       "      <td>58760.59</td>\n",
       "      <td>0.720415</td>\n",
       "      <td>42332.958633</td>\n",
       "      <td>58761.866202</td>\n",
       "    </tr>\n",
       "    <tr>\n",
       "      <th>4857376</th>\n",
       "      <td>1617148800</td>\n",
       "      <td>58767.75</td>\n",
       "      <td>58778.18</td>\n",
       "      <td>58755.97</td>\n",
       "      <td>58778.18</td>\n",
       "      <td>2.712831</td>\n",
       "      <td>159417.751000</td>\n",
       "      <td>58764.349363</td>\n",
       "    </tr>\n",
       "  </tbody>\n",
       "</table>\n",
       "</div>"
      ],
      "text/plain": [
       "          Timestamp      Open      High       Low     Close  Volume_(BTC)  \\\n",
       "4857372  1617148560  58714.31  58714.31  58686.00  58686.00      1.384487   \n",
       "4857373  1617148620  58683.97  58693.43  58683.97  58685.81      7.294848   \n",
       "4857374  1617148680  58693.43  58723.84  58693.43  58723.84      1.705682   \n",
       "4857375  1617148740  58742.18  58770.38  58742.18  58760.59      0.720415   \n",
       "4857376  1617148800  58767.75  58778.18  58755.97  58778.18      2.712831   \n",
       "\n",
       "         Volume_(Currency)  Weighted_Price  \n",
       "4857372       81259.372187    58692.753339  \n",
       "4857373      428158.146640    58693.226508  \n",
       "4857374      100117.070370    58696.198496  \n",
       "4857375       42332.958633    58761.866202  \n",
       "4857376      159417.751000    58764.349363  "
      ]
     },
     "execution_count": 6,
     "metadata": {},
     "output_type": "execute_result"
    }
   ],
   "source": [
    "data.tail()"
   ]
  },
  {
   "cell_type": "code",
   "execution_count": 5,
   "id": "09ef6dcd",
   "metadata": {},
   "outputs": [
    {
     "name": "stdout",
     "output_type": "stream",
     "text": [
      "<class 'pandas.core.frame.DataFrame'>\n",
      "RangeIndex: 4857377 entries, 0 to 4857376\n",
      "Data columns (total 8 columns):\n",
      " #   Column             Dtype  \n",
      "---  ------             -----  \n",
      " 0   Timestamp          int64  \n",
      " 1   Open               float64\n",
      " 2   High               float64\n",
      " 3   Low                float64\n",
      " 4   Close              float64\n",
      " 5   Volume_(BTC)       float64\n",
      " 6   Volume_(Currency)  float64\n",
      " 7   Weighted_Price     float64\n",
      "dtypes: float64(7), int64(1)\n",
      "memory usage: 296.5 MB\n"
     ]
    }
   ],
   "source": [
    "data.info()"
   ]
  },
  {
   "cell_type": "code",
   "execution_count": 7,
   "id": "120c70c2",
   "metadata": {},
   "outputs": [
    {
     "data": {
      "text/html": [
       "<div>\n",
       "<style scoped>\n",
       "    .dataframe tbody tr th:only-of-type {\n",
       "        vertical-align: middle;\n",
       "    }\n",
       "\n",
       "    .dataframe tbody tr th {\n",
       "        vertical-align: top;\n",
       "    }\n",
       "\n",
       "    .dataframe thead th {\n",
       "        text-align: right;\n",
       "    }\n",
       "</style>\n",
       "<table border=\"1\" class=\"dataframe\">\n",
       "  <thead>\n",
       "    <tr style=\"text-align: right;\">\n",
       "      <th></th>\n",
       "      <th>Timestamp</th>\n",
       "      <th>Open</th>\n",
       "      <th>High</th>\n",
       "      <th>Low</th>\n",
       "      <th>Close</th>\n",
       "      <th>Volume_(BTC)</th>\n",
       "      <th>Volume_(Currency)</th>\n",
       "      <th>Weighted_Price</th>\n",
       "    </tr>\n",
       "  </thead>\n",
       "  <tbody>\n",
       "    <tr>\n",
       "      <th>count</th>\n",
       "      <td>4.857377e+06</td>\n",
       "      <td>3.613769e+06</td>\n",
       "      <td>3.613769e+06</td>\n",
       "      <td>3.613769e+06</td>\n",
       "      <td>3.613769e+06</td>\n",
       "      <td>3.613769e+06</td>\n",
       "      <td>3.613769e+06</td>\n",
       "      <td>3.613769e+06</td>\n",
       "    </tr>\n",
       "    <tr>\n",
       "      <th>mean</th>\n",
       "      <td>1.471301e+09</td>\n",
       "      <td>6.009024e+03</td>\n",
       "      <td>6.013357e+03</td>\n",
       "      <td>6.004488e+03</td>\n",
       "      <td>6.009014e+03</td>\n",
       "      <td>9.323249e+00</td>\n",
       "      <td>4.176284e+04</td>\n",
       "      <td>6.008935e+03</td>\n",
       "    </tr>\n",
       "    <tr>\n",
       "      <th>std</th>\n",
       "      <td>8.428019e+07</td>\n",
       "      <td>8.996247e+03</td>\n",
       "      <td>9.003521e+03</td>\n",
       "      <td>8.988778e+03</td>\n",
       "      <td>8.996360e+03</td>\n",
       "      <td>3.054989e+01</td>\n",
       "      <td>1.518248e+05</td>\n",
       "      <td>8.995992e+03</td>\n",
       "    </tr>\n",
       "    <tr>\n",
       "      <th>min</th>\n",
       "      <td>1.325318e+09</td>\n",
       "      <td>3.800000e+00</td>\n",
       "      <td>3.800000e+00</td>\n",
       "      <td>1.500000e+00</td>\n",
       "      <td>1.500000e+00</td>\n",
       "      <td>0.000000e+00</td>\n",
       "      <td>0.000000e+00</td>\n",
       "      <td>3.800000e+00</td>\n",
       "    </tr>\n",
       "    <tr>\n",
       "      <th>25%</th>\n",
       "      <td>1.398179e+09</td>\n",
       "      <td>4.438600e+02</td>\n",
       "      <td>4.440000e+02</td>\n",
       "      <td>4.435200e+02</td>\n",
       "      <td>4.438600e+02</td>\n",
       "      <td>4.097759e-01</td>\n",
       "      <td>4.521422e+02</td>\n",
       "      <td>4.438306e+02</td>\n",
       "    </tr>\n",
       "    <tr>\n",
       "      <th>50%</th>\n",
       "      <td>1.471428e+09</td>\n",
       "      <td>3.596970e+03</td>\n",
       "      <td>3.598190e+03</td>\n",
       "      <td>3.595620e+03</td>\n",
       "      <td>3.597000e+03</td>\n",
       "      <td>1.979811e+00</td>\n",
       "      <td>3.810124e+03</td>\n",
       "      <td>3.596804e+03</td>\n",
       "    </tr>\n",
       "    <tr>\n",
       "      <th>75%</th>\n",
       "      <td>1.544288e+09</td>\n",
       "      <td>8.627270e+03</td>\n",
       "      <td>8.632980e+03</td>\n",
       "      <td>8.621090e+03</td>\n",
       "      <td>8.627160e+03</td>\n",
       "      <td>7.278216e+00</td>\n",
       "      <td>2.569821e+04</td>\n",
       "      <td>8.627637e+03</td>\n",
       "    </tr>\n",
       "    <tr>\n",
       "      <th>max</th>\n",
       "      <td>1.617149e+09</td>\n",
       "      <td>6.176356e+04</td>\n",
       "      <td>6.178183e+04</td>\n",
       "      <td>6.167355e+04</td>\n",
       "      <td>6.178180e+04</td>\n",
       "      <td>5.853852e+03</td>\n",
       "      <td>1.390067e+07</td>\n",
       "      <td>6.171621e+04</td>\n",
       "    </tr>\n",
       "  </tbody>\n",
       "</table>\n",
       "</div>"
      ],
      "text/plain": [
       "          Timestamp          Open          High           Low         Close  \\\n",
       "count  4.857377e+06  3.613769e+06  3.613769e+06  3.613769e+06  3.613769e+06   \n",
       "mean   1.471301e+09  6.009024e+03  6.013357e+03  6.004488e+03  6.009014e+03   \n",
       "std    8.428019e+07  8.996247e+03  9.003521e+03  8.988778e+03  8.996360e+03   \n",
       "min    1.325318e+09  3.800000e+00  3.800000e+00  1.500000e+00  1.500000e+00   \n",
       "25%    1.398179e+09  4.438600e+02  4.440000e+02  4.435200e+02  4.438600e+02   \n",
       "50%    1.471428e+09  3.596970e+03  3.598190e+03  3.595620e+03  3.597000e+03   \n",
       "75%    1.544288e+09  8.627270e+03  8.632980e+03  8.621090e+03  8.627160e+03   \n",
       "max    1.617149e+09  6.176356e+04  6.178183e+04  6.167355e+04  6.178180e+04   \n",
       "\n",
       "       Volume_(BTC)  Volume_(Currency)  Weighted_Price  \n",
       "count  3.613769e+06       3.613769e+06    3.613769e+06  \n",
       "mean   9.323249e+00       4.176284e+04    6.008935e+03  \n",
       "std    3.054989e+01       1.518248e+05    8.995992e+03  \n",
       "min    0.000000e+00       0.000000e+00    3.800000e+00  \n",
       "25%    4.097759e-01       4.521422e+02    4.438306e+02  \n",
       "50%    1.979811e+00       3.810124e+03    3.596804e+03  \n",
       "75%    7.278216e+00       2.569821e+04    8.627637e+03  \n",
       "max    5.853852e+03       1.390067e+07    6.171621e+04  "
      ]
     },
     "execution_count": 7,
     "metadata": {},
     "output_type": "execute_result"
    }
   ],
   "source": [
    "data.describe()"
   ]
  },
  {
   "cell_type": "code",
   "execution_count": 8,
   "id": "46808113",
   "metadata": {
    "execution": {
     "iopub.execute_input": "2023-06-03T23:42:44.320593Z",
     "iopub.status.busy": "2023-06-03T23:42:44.320114Z",
     "iopub.status.idle": "2023-06-03T23:42:44.326639Z",
     "shell.execute_reply": "2023-06-03T23:42:44.325109Z"
    },
    "papermill": {
     "duration": 0.021294,
     "end_time": "2023-06-03T23:42:44.328980",
     "exception": false,
     "start_time": "2023-06-03T23:42:44.307686",
     "status": "completed"
    },
    "tags": []
   },
   "outputs": [
    {
     "name": "stdout",
     "output_type": "stream",
     "text": [
      "Dataset Shape: (4857377, 8)\n"
     ]
    }
   ],
   "source": [
    "# Check the dimensions of the dataset\n",
    "print('Dataset Shape:', data.shape)"
   ]
  },
  {
   "cell_type": "code",
   "execution_count": 9,
   "id": "204cbf66",
   "metadata": {
    "execution": {
     "iopub.execute_input": "2023-06-03T23:42:44.354515Z",
     "iopub.status.busy": "2023-06-03T23:42:44.353943Z",
     "iopub.status.idle": "2023-06-03T23:42:44.365200Z",
     "shell.execute_reply": "2023-06-03T23:42:44.362808Z"
    },
    "papermill": {
     "duration": 0.029326,
     "end_time": "2023-06-03T23:42:44.369312",
     "exception": false,
     "start_time": "2023-06-03T23:42:44.339986",
     "status": "completed"
    },
    "tags": []
   },
   "outputs": [
    {
     "name": "stdout",
     "output_type": "stream",
     "text": [
      "Data Types: Timestamp              int64\n",
      "Open                 float64\n",
      "High                 float64\n",
      "Low                  float64\n",
      "Close                float64\n",
      "Volume_(BTC)         float64\n",
      "Volume_(Currency)    float64\n",
      "Weighted_Price       float64\n",
      "dtype: object\n"
     ]
    }
   ],
   "source": [
    "# Check the data types of each column\n",
    "print('Data Types:', data.dtypes)"
   ]
  },
  {
   "cell_type": "code",
   "execution_count": 10,
   "id": "c2559c03",
   "metadata": {},
   "outputs": [
    {
     "data": {
      "text/plain": [
       "Index(['Timestamp', 'Open', 'High', 'Low', 'Close', 'Volume_(BTC)',\n",
       "       'Volume_(Currency)', 'Weighted_Price'],\n",
       "      dtype='object')"
      ]
     },
     "execution_count": 10,
     "metadata": {},
     "output_type": "execute_result"
    }
   ],
   "source": [
    "data.columns"
   ]
  },
  {
   "cell_type": "markdown",
   "id": "03fcbfac",
   "metadata": {
    "papermill": {
     "duration": 0.011306,
     "end_time": "2023-06-03T23:42:47.548063",
     "exception": false,
     "start_time": "2023-06-03T23:42:47.536757",
     "status": "completed"
    },
    "tags": []
   },
   "source": [
    "## Data Preprocessing"
   ]
  },
  {
   "cell_type": "code",
   "execution_count": 11,
   "id": "01ee0ec7",
   "metadata": {
    "execution": {
     "iopub.execute_input": "2023-06-03T23:42:47.572754Z",
     "iopub.status.busy": "2023-06-03T23:42:47.572351Z",
     "iopub.status.idle": "2023-06-03T23:42:47.639240Z",
     "shell.execute_reply": "2023-06-03T23:42:47.638120Z"
    },
    "papermill": {
     "duration": 0.082417,
     "end_time": "2023-06-03T23:42:47.641956",
     "exception": false,
     "start_time": "2023-06-03T23:42:47.559539",
     "status": "completed"
    },
    "tags": []
   },
   "outputs": [
    {
     "name": "stdout",
     "output_type": "stream",
     "text": [
      "Missing Values:\n",
      "Timestamp                  0\n",
      "Open                 1243608\n",
      "High                 1243608\n",
      "Low                  1243608\n",
      "Close                1243608\n",
      "Volume_(BTC)         1243608\n",
      "Volume_(Currency)    1243608\n",
      "Weighted_Price       1243608\n",
      "dtype: int64\n"
     ]
    }
   ],
   "source": [
    "# Check for missing values\n",
    "missing_values = data.isnull().sum()\n",
    "print('Missing Values:')\n",
    "print(missing_values)"
   ]
  },
  {
   "cell_type": "code",
   "execution_count": 12,
   "id": "7ecd768e",
   "metadata": {
    "execution": {
     "iopub.execute_input": "2023-06-03T23:42:47.666462Z",
     "iopub.status.busy": "2023-06-03T23:42:47.666088Z",
     "iopub.status.idle": "2023-06-03T23:42:47.671142Z",
     "shell.execute_reply": "2023-06-03T23:42:47.669921Z"
    },
    "papermill": {
     "duration": 0.020167,
     "end_time": "2023-06-03T23:42:47.673541",
     "exception": false,
     "start_time": "2023-06-03T23:42:47.653374",
     "status": "completed"
    },
    "tags": []
   },
   "outputs": [],
   "source": [
    "df=data"
   ]
  },
  {
   "cell_type": "code",
   "execution_count": 18,
   "id": "edca13ce",
   "metadata": {
    "execution": {
     "iopub.execute_input": "2023-06-03T23:42:47.697763Z",
     "iopub.status.busy": "2023-06-03T23:42:47.697396Z",
     "iopub.status.idle": "2023-06-03T23:42:48.899797Z",
     "shell.execute_reply": "2023-06-03T23:42:48.898348Z"
    },
    "papermill": {
     "duration": 1.218021,
     "end_time": "2023-06-03T23:42:48.902715",
     "exception": false,
     "start_time": "2023-06-03T23:42:47.684694",
     "status": "completed"
    },
    "tags": []
   },
   "outputs": [],
   "source": [
    "# Convert Unix time to datetime\n",
    "df['Timestamp'] = pd.to_datetime(df['Timestamp'], unit='s')\n",
    "\n",
    "# Resample to daily frequency\n",
    "df_daily = df.resample('D', on='Timestamp').mean()\n",
    "\n",
    "# Resample to monthly frequency\n",
    "df_monthly = df.resample('M', on='Timestamp').mean()\n",
    "\n",
    "# Resample to annual frequency\n",
    "df_annual = df.resample('A-DEC', on='Timestamp').mean()\n",
    "\n",
    "# Resample to quarterly frequency\n",
    "df_quarterly = df.resample('Q-DEC', on='Timestamp').mean()"
   ]
  },
  {
   "cell_type": "markdown",
   "id": "5870110a",
   "metadata": {
    "papermill": {
     "duration": 0.011549,
     "end_time": "2023-06-03T23:42:48.925497",
     "exception": false,
     "start_time": "2023-06-03T23:42:48.913948",
     "status": "completed"
    },
    "tags": []
   },
   "source": [
    "## Handling Missing Values"
   ]
  },
  {
   "cell_type": "code",
   "execution_count": 19,
   "id": "3e868824",
   "metadata": {
    "execution": {
     "iopub.execute_input": "2023-06-03T23:42:48.951091Z",
     "iopub.status.busy": "2023-06-03T23:42:48.950621Z",
     "iopub.status.idle": "2023-06-03T23:42:48.971873Z",
     "shell.execute_reply": "2023-06-03T23:42:48.970610Z"
    },
    "papermill": {
     "duration": 0.03705,
     "end_time": "2023-06-03T23:42:48.974720",
     "exception": false,
     "start_time": "2023-06-03T23:42:48.937670",
     "status": "completed"
    },
    "tags": []
   },
   "outputs": [],
   "source": [
    "# Handling missing values in df_daily\n",
    "df_daily = df_daily.fillna(df_daily.mean())\n",
    "\n",
    "# Handling missing values in df_monthly\n",
    "df_monthly = df_monthly.fillna(df_monthly.mean())\n",
    "\n",
    "# Handling missing values in df_annual\n",
    "df_annual = df_annual.fillna(df_annual.mean())\n",
    "\n",
    "# Handling missing values in df_quarterly\n",
    "df_quarterly = df_quarterly.fillna(df_quarterly.mean())\n"
   ]
  },
  {
   "cell_type": "code",
   "execution_count": 20,
   "id": "8dc7e77a",
   "metadata": {},
   "outputs": [
    {
     "data": {
      "text/html": [
       "<div>\n",
       "<style scoped>\n",
       "    .dataframe tbody tr th:only-of-type {\n",
       "        vertical-align: middle;\n",
       "    }\n",
       "\n",
       "    .dataframe tbody tr th {\n",
       "        vertical-align: top;\n",
       "    }\n",
       "\n",
       "    .dataframe thead th {\n",
       "        text-align: right;\n",
       "    }\n",
       "</style>\n",
       "<table border=\"1\" class=\"dataframe\">\n",
       "  <thead>\n",
       "    <tr style=\"text-align: right;\">\n",
       "      <th></th>\n",
       "      <th>Open</th>\n",
       "      <th>High</th>\n",
       "      <th>Low</th>\n",
       "      <th>Close</th>\n",
       "      <th>Volume_(BTC)</th>\n",
       "      <th>Volume_(Currency)</th>\n",
       "      <th>Weighted_Price</th>\n",
       "    </tr>\n",
       "    <tr>\n",
       "      <th>Timestamp</th>\n",
       "      <th></th>\n",
       "      <th></th>\n",
       "      <th></th>\n",
       "      <th></th>\n",
       "      <th></th>\n",
       "      <th></th>\n",
       "      <th></th>\n",
       "    </tr>\n",
       "  </thead>\n",
       "  <tbody>\n",
       "    <tr>\n",
       "      <th>2011-12-31</th>\n",
       "      <td>4.465000</td>\n",
       "      <td>4.482500</td>\n",
       "      <td>4.465000</td>\n",
       "      <td>4.482500</td>\n",
       "      <td>23.829470</td>\n",
       "      <td>106.330084</td>\n",
       "      <td>4.471603</td>\n",
       "    </tr>\n",
       "    <tr>\n",
       "      <th>2012-01-01</th>\n",
       "      <td>4.806667</td>\n",
       "      <td>4.806667</td>\n",
       "      <td>4.806667</td>\n",
       "      <td>4.806667</td>\n",
       "      <td>7.200667</td>\n",
       "      <td>35.259720</td>\n",
       "      <td>4.806667</td>\n",
       "    </tr>\n",
       "    <tr>\n",
       "      <th>2012-01-02</th>\n",
       "      <td>5.000000</td>\n",
       "      <td>5.000000</td>\n",
       "      <td>5.000000</td>\n",
       "      <td>5.000000</td>\n",
       "      <td>19.048000</td>\n",
       "      <td>95.240000</td>\n",
       "      <td>5.000000</td>\n",
       "    </tr>\n",
       "    <tr>\n",
       "      <th>2012-01-03</th>\n",
       "      <td>5.252500</td>\n",
       "      <td>5.252500</td>\n",
       "      <td>5.252500</td>\n",
       "      <td>5.252500</td>\n",
       "      <td>11.004660</td>\n",
       "      <td>58.100651</td>\n",
       "      <td>5.252500</td>\n",
       "    </tr>\n",
       "    <tr>\n",
       "      <th>2012-01-04</th>\n",
       "      <td>5.200000</td>\n",
       "      <td>5.223333</td>\n",
       "      <td>5.200000</td>\n",
       "      <td>5.223333</td>\n",
       "      <td>11.914807</td>\n",
       "      <td>63.119577</td>\n",
       "      <td>5.208159</td>\n",
       "    </tr>\n",
       "  </tbody>\n",
       "</table>\n",
       "</div>"
      ],
      "text/plain": [
       "                Open      High       Low     Close  Volume_(BTC)  \\\n",
       "Timestamp                                                          \n",
       "2011-12-31  4.465000  4.482500  4.465000  4.482500     23.829470   \n",
       "2012-01-01  4.806667  4.806667  4.806667  4.806667      7.200667   \n",
       "2012-01-02  5.000000  5.000000  5.000000  5.000000     19.048000   \n",
       "2012-01-03  5.252500  5.252500  5.252500  5.252500     11.004660   \n",
       "2012-01-04  5.200000  5.223333  5.200000  5.223333     11.914807   \n",
       "\n",
       "            Volume_(Currency)  Weighted_Price  \n",
       "Timestamp                                      \n",
       "2011-12-31         106.330084        4.471603  \n",
       "2012-01-01          35.259720        4.806667  \n",
       "2012-01-02          95.240000        5.000000  \n",
       "2012-01-03          58.100651        5.252500  \n",
       "2012-01-04          63.119577        5.208159  "
      ]
     },
     "execution_count": 20,
     "metadata": {},
     "output_type": "execute_result"
    }
   ],
   "source": [
    "df_daily.head()"
   ]
  },
  {
   "cell_type": "markdown",
   "id": "35cc23e0",
   "metadata": {
    "papermill": {
     "duration": 0.011111,
     "end_time": "2023-06-03T23:42:48.997570",
     "exception": false,
     "start_time": "2023-06-03T23:42:48.986459",
     "status": "completed"
    },
    "tags": []
   },
   "source": [
    "## Feature Engineering"
   ]
  },
  {
   "cell_type": "code",
   "execution_count": 21,
   "id": "728e47b0",
   "metadata": {
    "execution": {
     "iopub.execute_input": "2023-06-03T23:42:49.022168Z",
     "iopub.status.busy": "2023-06-03T23:42:49.021718Z",
     "iopub.status.idle": "2023-06-03T23:42:49.042592Z",
     "shell.execute_reply": "2023-06-03T23:42:49.041730Z"
    },
    "papermill": {
     "duration": 0.035877,
     "end_time": "2023-06-03T23:42:49.044746",
     "exception": false,
     "start_time": "2023-06-03T23:42:49.008869",
     "status": "completed"
    },
    "tags": []
   },
   "outputs": [],
   "source": [
    "# Calculate the daily percentage change in Bitcoin price\n",
    "df_daily['Price_Pct_Change'] = df_daily['Close'].pct_change()\n",
    "\n",
    "# Calculate 3-month moving average for df_monthly\n",
    "df_monthly['Moving_Average_3M'] = df_monthly['Close'].rolling(window=3).mean()\n",
    "\n",
    "# Calculate 6-month moving average for df_monthly\n",
    "df_monthly['Moving_Average_6M'] = df_monthly['Close'].rolling(window=6).mean()\n",
    "\n",
    "# Calculate 12-month moving average for df_annual\n",
    "df_annual['Moving_Average_12M'] = df_annual['Close'].rolling(window=12).mean()\n",
    "\n",
    "# Calculate 3-month rolling standard deviation for df_quarterly\n",
    "df_quarterly['Rolling_Std_3M'] = df_quarterly['Close'].rolling(window=3).std()\n",
    "\n",
    "# Calculate 6-month rolling standard deviation for df_quarterly\n",
    "df_quarterly['Rolling_Std_6M'] = df_quarterly['Close'].rolling(window=6).std()\n"
   ]
  },
  {
   "cell_type": "code",
   "execution_count": 22,
   "id": "2ddd6630",
   "metadata": {
    "execution": {
     "iopub.execute_input": "2023-06-03T23:42:49.069350Z",
     "iopub.status.busy": "2023-06-03T23:42:49.068879Z",
     "iopub.status.idle": "2023-06-03T23:42:49.096702Z",
     "shell.execute_reply": "2023-06-03T23:42:49.095427Z"
    },
    "papermill": {
     "duration": 0.04345,
     "end_time": "2023-06-03T23:42:49.099439",
     "exception": false,
     "start_time": "2023-06-03T23:42:49.055989",
     "status": "completed"
    },
    "tags": []
   },
   "outputs": [
    {
     "data": {
      "text/html": [
       "<div>\n",
       "<style scoped>\n",
       "    .dataframe tbody tr th:only-of-type {\n",
       "        vertical-align: middle;\n",
       "    }\n",
       "\n",
       "    .dataframe tbody tr th {\n",
       "        vertical-align: top;\n",
       "    }\n",
       "\n",
       "    .dataframe thead th {\n",
       "        text-align: right;\n",
       "    }\n",
       "</style>\n",
       "<table border=\"1\" class=\"dataframe\">\n",
       "  <thead>\n",
       "    <tr style=\"text-align: right;\">\n",
       "      <th></th>\n",
       "      <th>Timestamp</th>\n",
       "      <th>Open</th>\n",
       "      <th>High</th>\n",
       "      <th>Low</th>\n",
       "      <th>Close</th>\n",
       "      <th>Volume_(BTC)</th>\n",
       "      <th>Volume_(Currency)</th>\n",
       "      <th>Weighted_Price</th>\n",
       "    </tr>\n",
       "  </thead>\n",
       "  <tbody>\n",
       "    <tr>\n",
       "      <th>0</th>\n",
       "      <td>2011-12-31 07:52:00</td>\n",
       "      <td>4.39</td>\n",
       "      <td>4.39</td>\n",
       "      <td>4.39</td>\n",
       "      <td>4.39</td>\n",
       "      <td>0.455581</td>\n",
       "      <td>2.0</td>\n",
       "      <td>4.39</td>\n",
       "    </tr>\n",
       "    <tr>\n",
       "      <th>1</th>\n",
       "      <td>2011-12-31 07:53:00</td>\n",
       "      <td>NaN</td>\n",
       "      <td>NaN</td>\n",
       "      <td>NaN</td>\n",
       "      <td>NaN</td>\n",
       "      <td>NaN</td>\n",
       "      <td>NaN</td>\n",
       "      <td>NaN</td>\n",
       "    </tr>\n",
       "    <tr>\n",
       "      <th>2</th>\n",
       "      <td>2011-12-31 07:54:00</td>\n",
       "      <td>NaN</td>\n",
       "      <td>NaN</td>\n",
       "      <td>NaN</td>\n",
       "      <td>NaN</td>\n",
       "      <td>NaN</td>\n",
       "      <td>NaN</td>\n",
       "      <td>NaN</td>\n",
       "    </tr>\n",
       "    <tr>\n",
       "      <th>3</th>\n",
       "      <td>2011-12-31 07:55:00</td>\n",
       "      <td>NaN</td>\n",
       "      <td>NaN</td>\n",
       "      <td>NaN</td>\n",
       "      <td>NaN</td>\n",
       "      <td>NaN</td>\n",
       "      <td>NaN</td>\n",
       "      <td>NaN</td>\n",
       "    </tr>\n",
       "    <tr>\n",
       "      <th>4</th>\n",
       "      <td>2011-12-31 07:56:00</td>\n",
       "      <td>NaN</td>\n",
       "      <td>NaN</td>\n",
       "      <td>NaN</td>\n",
       "      <td>NaN</td>\n",
       "      <td>NaN</td>\n",
       "      <td>NaN</td>\n",
       "      <td>NaN</td>\n",
       "    </tr>\n",
       "  </tbody>\n",
       "</table>\n",
       "</div>"
      ],
      "text/plain": [
       "            Timestamp  Open  High   Low  Close  Volume_(BTC)  \\\n",
       "0 2011-12-31 07:52:00  4.39  4.39  4.39   4.39      0.455581   \n",
       "1 2011-12-31 07:53:00   NaN   NaN   NaN    NaN           NaN   \n",
       "2 2011-12-31 07:54:00   NaN   NaN   NaN    NaN           NaN   \n",
       "3 2011-12-31 07:55:00   NaN   NaN   NaN    NaN           NaN   \n",
       "4 2011-12-31 07:56:00   NaN   NaN   NaN    NaN           NaN   \n",
       "\n",
       "   Volume_(Currency)  Weighted_Price  \n",
       "0                2.0            4.39  \n",
       "1                NaN             NaN  \n",
       "2                NaN             NaN  \n",
       "3                NaN             NaN  \n",
       "4                NaN             NaN  "
      ]
     },
     "execution_count": 22,
     "metadata": {},
     "output_type": "execute_result"
    }
   ],
   "source": [
    "df.head()"
   ]
  },
  {
   "cell_type": "markdown",
   "id": "6e43da81",
   "metadata": {
    "papermill": {
     "duration": 0.011247,
     "end_time": "2023-06-03T23:42:49.122556",
     "exception": false,
     "start_time": "2023-06-03T23:42:49.111309",
     "status": "completed"
    },
    "tags": []
   },
   "source": [
    "## Exploratory Data Analysis"
   ]
  },
  {
   "cell_type": "code",
   "execution_count": 23,
   "id": "55d314bb",
   "metadata": {
    "execution": {
     "iopub.execute_input": "2023-06-03T23:42:49.147256Z",
     "iopub.status.busy": "2023-06-03T23:42:49.146842Z",
     "iopub.status.idle": "2023-06-03T23:42:51.094403Z",
     "shell.execute_reply": "2023-06-03T23:42:51.093504Z"
    },
    "papermill": {
     "duration": 1.963016,
     "end_time": "2023-06-03T23:42:51.097019",
     "exception": false,
     "start_time": "2023-06-03T23:42:49.134003",
     "status": "completed"
    },
    "tags": []
   },
   "outputs": [
    {
     "data": {
      "image/png": "[encoded data removed]",
      "text/plain": [
       "<Figure size 1000x500 with 1 Axes>"
      ]
     },
     "metadata": {},
     "output_type": "display_data"
    }
   ],
   "source": [
    "import matplotlib.pyplot as plt\n",
    "\n",
    "# Convert Unix time to datetime\n",
    "df['Timestamp'] = pd.to_datetime(df['Timestamp'], unit='s')\n",
    "\n",
    "# Set the Timestamp column as the index\n",
    "df.set_index('Timestamp', inplace=True)\n",
    "\n",
    "# Plot 1: Line chart of Bitcoin closing prices over time\n",
    "plt.figure(figsize=(10, 5))\n",
    "plt.plot(df.index, df['Close'])\n",
    "plt.title('Bitcoin Closing Prices over Time')\n",
    "plt.xlabel('Time')\n",
    "plt.ylabel('Closing Price')\n",
    "plt.xticks(rotation=45)\n",
    "plt.grid(True)\n",
    "plt.show()"
   ]
  },
  {
   "cell_type": "code",
   "execution_count": 24,
   "id": "f3f7ed4d",
   "metadata": {
    "execution": {
     "iopub.execute_input": "2023-06-03T23:42:51.123765Z",
     "iopub.status.busy": "2023-06-03T23:42:51.123269Z",
     "iopub.status.idle": "2023-06-03T23:43:17.543954Z",
     "shell.execute_reply": "2023-06-03T23:43:17.542827Z"
    },
    "papermill": {
     "duration": 26.437682,
     "end_time": "2023-06-03T23:43:17.546929",
     "exception": false,
     "start_time": "2023-06-03T23:42:51.109247",
     "status": "completed"
    },
    "tags": []
   },
   "outputs": [
    {
     "data": {
      "image/png": "[encoded data removed]",
      "text/plain": [
       "<Figure size 1000x500 with 1 Axes>"
      ]
     },
     "metadata": {},
     "output_type": "display_data"
    }
   ],
   "source": [
    "# Plot 2: Candlestick chart of Bitcoin prices\n",
    "plt.figure(figsize=(10, 5))\n",
    "plt.plot(df.index, df['Open'], color='green', label='Open')\n",
    "plt.plot(df.index, df['Close'], color='red', label='Close')\n",
    "plt.plot(df.index, df['High'], color='blue', label='High')\n",
    "plt.plot(df.index, df['Low'], color='orange', label='Low')\n",
    "plt.title('Bitcoin Candlestick Chart')\n",
    "plt.xlabel('Time')\n",
    "plt.ylabel('Price')\n",
    "plt.xticks(rotation=45)\n",
    "plt.legend()\n",
    "plt.grid(True)\n",
    "plt.show()"
   ]
  },
  {
   "cell_type": "code",
   "execution_count": 25,
   "id": "6d5f1803",
   "metadata": {
    "execution": {
     "iopub.execute_input": "2023-06-03T23:43:17.576013Z",
     "iopub.status.busy": "2023-06-03T23:43:17.574892Z",
     "iopub.status.idle": "2023-06-03T23:43:18.046708Z",
     "shell.execute_reply": "2023-06-03T23:43:18.045289Z"
    },
    "papermill": {
     "duration": 0.489556,
     "end_time": "2023-06-03T23:43:18.049618",
     "exception": false,
     "start_time": "2023-06-03T23:43:17.560062",
     "status": "completed"
    },
    "tags": []
   },
   "outputs": [
    {
     "data": {
      "image/png": "[encoded data removed]",
      "text/plain": [
       "<Figure size 1000x500 with 1 Axes>"
      ]
     },
     "metadata": {},
     "output_type": "display_data"
    }
   ],
   "source": [
    "# Plot 3: Histogram of Bitcoin daily trading volume\n",
    "plt.figure(figsize=(10, 5))\n",
    "plt.hist(df['Volume_(BTC)'], bins=30)\n",
    "plt.title('Bitcoin Daily Trading Volume')\n",
    "plt.xlabel('Volume (BTC)')\n",
    "plt.ylabel('Frequency')\n",
    "plt.grid(True)\n",
    "plt.show()"
   ]
  },
  {
   "cell_type": "code",
   "execution_count": 26,
   "id": "5746fe0f",
   "metadata": {
    "execution": {
     "iopub.execute_input": "2023-06-03T23:43:18.078337Z",
     "iopub.status.busy": "2023-06-03T23:43:18.077888Z",
     "iopub.status.idle": "2023-06-03T23:43:24.954618Z",
     "shell.execute_reply": "2023-06-03T23:43:24.953774Z"
    },
    "papermill": {
     "duration": 6.893825,
     "end_time": "2023-06-03T23:43:24.956818",
     "exception": false,
     "start_time": "2023-06-03T23:43:18.062993",
     "status": "completed"
    },
    "tags": []
   },
   "outputs": [
    {
     "data": {
      "image/png": "[encoded data removed]",
      "text/plain": [
       "<Figure size 1000x500 with 1 Axes>"
      ]
     },
     "metadata": {},
     "output_type": "display_data"
    }
   ],
   "source": [
    "# Plot 4: Scatter plot of Bitcoin closing prices and volume\n",
    "plt.figure(figsize=(10, 5))\n",
    "plt.scatter(df['Close'], df['Volume_(BTC)'])\n",
    "plt.title('Bitcoin Closing Prices vs. Volume')\n",
    "plt.xlabel('Closing Price')\n",
    "plt.ylabel('Volume (BTC)')\n",
    "plt.grid(True)\n",
    "plt.show()"
   ]
  },
  {
   "cell_type": "code",
   "execution_count": 27,
   "id": "d6fe476f",
   "metadata": {
    "execution": {
     "iopub.execute_input": "2023-06-03T23:43:24.987732Z",
     "iopub.status.busy": "2023-06-03T23:43:24.986541Z",
     "iopub.status.idle": "2023-06-03T23:43:34.537814Z",
     "shell.execute_reply": "2023-06-03T23:43:34.536404Z"
    },
    "papermill": {
     "duration": 9.569701,
     "end_time": "2023-06-03T23:43:34.540410",
     "exception": false,
     "start_time": "2023-06-03T23:43:24.970709",
     "status": "completed"
    },
    "tags": []
   },
   "outputs": [
    {
     "data": {
      "text/plain": [
       "<Figure size 1000x500 with 0 Axes>"
      ]
     },
     "metadata": {},
     "output_type": "display_data"
    },
    {
     "data": {
      "image/png": "[encoded data removed]",
      "text/plain": [
       "<Figure size 640x480 with 1 Axes>"
      ]
     },
     "metadata": {},
     "output_type": "display_data"
    }
   ],
   "source": [
    "# Plot 5: Box plot of Bitcoin daily trading volume by month\n",
    "df['Month'] = df.index.month\n",
    "plt.figure(figsize=(10, 5))\n",
    "df.boxplot(column='Volume_(BTC)', by='Month')\n",
    "plt.title('Bitcoin Daily Trading Volume by Month')\n",
    "plt.xlabel('Month')\n",
    "plt.ylabel('Volume (BTC)')\n",
    "plt.grid(True)\n",
    "plt.show()"
   ]
  },
  {
   "cell_type": "markdown",
   "id": "c79d73f5",
   "metadata": {
    "papermill": {
     "duration": 0.014992,
     "end_time": "2023-06-03T23:43:34.571083",
     "exception": false,
     "start_time": "2023-06-03T23:43:34.556091",
     "status": "completed"
    },
    "tags": []
   },
   "source": [
    "## Model Selection"
   ]
  },
  {
   "cell_type": "code",
   "execution_count": 28,
   "id": "3a8dcde8",
   "metadata": {
    "execution": {
     "iopub.execute_input": "2023-06-03T23:43:34.603634Z",
     "iopub.status.busy": "2023-06-03T23:43:34.603232Z",
     "iopub.status.idle": "2023-06-03T23:43:46.419199Z",
     "shell.execute_reply": "2023-06-03T23:43:46.417887Z"
    },
    "papermill": {
     "duration": 11.836602,
     "end_time": "2023-06-03T23:43:46.422968",
     "exception": false,
     "start_time": "2023-06-03T23:43:34.586366",
     "status": "completed"
    },
    "tags": []
   },
   "outputs": [
    {
     "name": "stderr",
     "output_type": "stream",
     "text": [
      "c:\\Users\\saidi\\AppData\\Local\\Programs\\Python\\Python311\\Lib\\site-packages\\requests\\__init__.py:89: RequestsDependencyWarning: urllib3 (2.2.1) or chardet (3.0.4) doesn't match a supported version!\n",
      "  warnings.warn(\"urllib3 ({}) or chardet ({}) doesn't match a supported \"\n"
     ]
    },
    {
     "name": "stdout",
     "output_type": "stream",
     "text": [
      "WARNING:tensorflow:From c:\\Users\\saidi\\AppData\\Local\\Programs\\Python\\Python311\\Lib\\site-packages\\keras\\src\\losses.py:2976: The name tf.losses.sparse_softmax_cross_entropy is deprecated. Please use tf.compat.v1.losses.sparse_softmax_cross_entropy instead.\n",
      "\n"
     ]
    }
   ],
   "source": [
    "from statsmodels.tsa.arima.model import ARIMA\n",
    "from statsmodels.tsa.statespace.sarimax import SARIMAX\n",
    "from sklearn.preprocessing import MinMaxScaler\n",
    "from sklearn.ensemble import GradientBoostingRegressor\n",
    "from sklearn.metrics import mean_squared_error\n",
    "from tensorflow.keras.models import Sequential\n",
    "from tensorflow.keras.layers import LSTM, Dense"
   ]
  },
  {
   "cell_type": "code",
   "execution_count": 29,
   "id": "e24e033c",
   "metadata": {
    "execution": {
     "iopub.execute_input": "2023-06-03T23:43:46.456555Z",
     "iopub.status.busy": "2023-06-03T23:43:46.455552Z",
     "iopub.status.idle": "2023-06-03T23:43:46.463012Z",
     "shell.execute_reply": "2023-06-03T23:43:46.461593Z"
    },
    "papermill": {
     "duration": 0.027141,
     "end_time": "2023-06-03T23:43:46.465736",
     "exception": false,
     "start_time": "2023-06-03T23:43:46.438595",
     "status": "completed"
    },
    "tags": []
   },
   "outputs": [],
   "source": [
    "# Split data into train and test sets\n",
    "train_size = int(len(df_daily) * 0.8)\n",
    "train_data, test_data = df_daily[:train_size], df_daily[train_size:]"
   ]
  },
  {
   "cell_type": "code",
   "execution_count": 30,
   "id": "a255a6fb",
   "metadata": {},
   "outputs": [
    {
     "data": {
      "text/html": [
       "<div>\n",
       "<style scoped>\n",
       "    .dataframe tbody tr th:only-of-type {\n",
       "        vertical-align: middle;\n",
       "    }\n",
       "\n",
       "    .dataframe tbody tr th {\n",
       "        vertical-align: top;\n",
       "    }\n",
       "\n",
       "    .dataframe thead th {\n",
       "        text-align: right;\n",
       "    }\n",
       "</style>\n",
       "<table border=\"1\" class=\"dataframe\">\n",
       "  <thead>\n",
       "    <tr style=\"text-align: right;\">\n",
       "      <th></th>\n",
       "      <th>Open</th>\n",
       "      <th>High</th>\n",
       "      <th>Low</th>\n",
       "      <th>Close</th>\n",
       "      <th>Volume_(BTC)</th>\n",
       "      <th>Volume_(Currency)</th>\n",
       "      <th>Weighted_Price</th>\n",
       "      <th>Price_Pct_Change</th>\n",
       "    </tr>\n",
       "    <tr>\n",
       "      <th>Timestamp</th>\n",
       "      <th></th>\n",
       "      <th></th>\n",
       "      <th></th>\n",
       "      <th></th>\n",
       "      <th></th>\n",
       "      <th></th>\n",
       "      <th></th>\n",
       "      <th></th>\n",
       "    </tr>\n",
       "  </thead>\n",
       "  <tbody>\n",
       "    <tr>\n",
       "      <th>2011-12-31</th>\n",
       "      <td>4.465000</td>\n",
       "      <td>4.482500</td>\n",
       "      <td>4.465000</td>\n",
       "      <td>4.482500</td>\n",
       "      <td>23.829470</td>\n",
       "      <td>106.330084</td>\n",
       "      <td>4.471603</td>\n",
       "      <td>NaN</td>\n",
       "    </tr>\n",
       "    <tr>\n",
       "      <th>2012-01-01</th>\n",
       "      <td>4.806667</td>\n",
       "      <td>4.806667</td>\n",
       "      <td>4.806667</td>\n",
       "      <td>4.806667</td>\n",
       "      <td>7.200667</td>\n",
       "      <td>35.259720</td>\n",
       "      <td>4.806667</td>\n",
       "      <td>0.072318</td>\n",
       "    </tr>\n",
       "    <tr>\n",
       "      <th>2012-01-02</th>\n",
       "      <td>5.000000</td>\n",
       "      <td>5.000000</td>\n",
       "      <td>5.000000</td>\n",
       "      <td>5.000000</td>\n",
       "      <td>19.048000</td>\n",
       "      <td>95.240000</td>\n",
       "      <td>5.000000</td>\n",
       "      <td>0.040222</td>\n",
       "    </tr>\n",
       "    <tr>\n",
       "      <th>2012-01-03</th>\n",
       "      <td>5.252500</td>\n",
       "      <td>5.252500</td>\n",
       "      <td>5.252500</td>\n",
       "      <td>5.252500</td>\n",
       "      <td>11.004660</td>\n",
       "      <td>58.100651</td>\n",
       "      <td>5.252500</td>\n",
       "      <td>0.050500</td>\n",
       "    </tr>\n",
       "    <tr>\n",
       "      <th>2012-01-04</th>\n",
       "      <td>5.200000</td>\n",
       "      <td>5.223333</td>\n",
       "      <td>5.200000</td>\n",
       "      <td>5.223333</td>\n",
       "      <td>11.914807</td>\n",
       "      <td>63.119577</td>\n",
       "      <td>5.208159</td>\n",
       "      <td>-0.005553</td>\n",
       "    </tr>\n",
       "  </tbody>\n",
       "</table>\n",
       "</div>"
      ],
      "text/plain": [
       "                Open      High       Low     Close  Volume_(BTC)  \\\n",
       "Timestamp                                                          \n",
       "2011-12-31  4.465000  4.482500  4.465000  4.482500     23.829470   \n",
       "2012-01-01  4.806667  4.806667  4.806667  4.806667      7.200667   \n",
       "2012-01-02  5.000000  5.000000  5.000000  5.000000     19.048000   \n",
       "2012-01-03  5.252500  5.252500  5.252500  5.252500     11.004660   \n",
       "2012-01-04  5.200000  5.223333  5.200000  5.223333     11.914807   \n",
       "\n",
       "            Volume_(Currency)  Weighted_Price  Price_Pct_Change  \n",
       "Timestamp                                                        \n",
       "2011-12-31         106.330084        4.471603               NaN  \n",
       "2012-01-01          35.259720        4.806667          0.072318  \n",
       "2012-01-02          95.240000        5.000000          0.040222  \n",
       "2012-01-03          58.100651        5.252500          0.050500  \n",
       "2012-01-04          63.119577        5.208159         -0.005553  "
      ]
     },
     "execution_count": 30,
     "metadata": {},
     "output_type": "execute_result"
    }
   ],
   "source": [
    "train_data.head()"
   ]
  },
  {
   "cell_type": "code",
   "execution_count": 31,
   "id": "4df66855",
   "metadata": {},
   "outputs": [
    {
     "data": {
      "text/plain": [
       "(2703, 8)"
      ]
     },
     "execution_count": 31,
     "metadata": {},
     "output_type": "execute_result"
    }
   ],
   "source": [
    "train_data.shape"
   ]
  },
  {
   "cell_type": "code",
   "execution_count": 32,
   "id": "36be7f3a",
   "metadata": {},
   "outputs": [
    {
     "data": {
      "text/html": [
       "<div>\n",
       "<style scoped>\n",
       "    .dataframe tbody tr th:only-of-type {\n",
       "        vertical-align: middle;\n",
       "    }\n",
       "\n",
       "    .dataframe tbody tr th {\n",
       "        vertical-align: top;\n",
       "    }\n",
       "\n",
       "    .dataframe thead th {\n",
       "        text-align: right;\n",
       "    }\n",
       "</style>\n",
       "<table border=\"1\" class=\"dataframe\">\n",
       "  <thead>\n",
       "    <tr style=\"text-align: right;\">\n",
       "      <th></th>\n",
       "      <th>Open</th>\n",
       "      <th>High</th>\n",
       "      <th>Low</th>\n",
       "      <th>Close</th>\n",
       "      <th>Volume_(BTC)</th>\n",
       "      <th>Volume_(Currency)</th>\n",
       "      <th>Weighted_Price</th>\n",
       "      <th>Price_Pct_Change</th>\n",
       "    </tr>\n",
       "    <tr>\n",
       "      <th>Timestamp</th>\n",
       "      <th></th>\n",
       "      <th></th>\n",
       "      <th></th>\n",
       "      <th></th>\n",
       "      <th></th>\n",
       "      <th></th>\n",
       "      <th></th>\n",
       "      <th></th>\n",
       "    </tr>\n",
       "  </thead>\n",
       "  <tbody>\n",
       "    <tr>\n",
       "      <th>2019-05-26</th>\n",
       "      <td>8127.771225</td>\n",
       "      <td>8134.230105</td>\n",
       "      <td>8121.538305</td>\n",
       "      <td>8126.474769</td>\n",
       "      <td>5.971157</td>\n",
       "      <td>50324.384244</td>\n",
       "      <td>8128.546958</td>\n",
       "      <td>0.010095</td>\n",
       "    </tr>\n",
       "    <tr>\n",
       "      <th>2019-05-27</th>\n",
       "      <td>8784.057257</td>\n",
       "      <td>8791.690368</td>\n",
       "      <td>8776.536090</td>\n",
       "      <td>8782.527847</td>\n",
       "      <td>6.213906</td>\n",
       "      <td>54623.052149</td>\n",
       "      <td>8784.562189</td>\n",
       "      <td>0.080730</td>\n",
       "    </tr>\n",
       "    <tr>\n",
       "      <th>2019-05-28</th>\n",
       "      <td>8726.934920</td>\n",
       "      <td>8732.252926</td>\n",
       "      <td>8721.685156</td>\n",
       "      <td>8726.058610</td>\n",
       "      <td>4.269640</td>\n",
       "      <td>37188.453180</td>\n",
       "      <td>8727.337766</td>\n",
       "      <td>-0.006430</td>\n",
       "    </tr>\n",
       "    <tr>\n",
       "      <th>2019-05-29</th>\n",
       "      <td>8647.710014</td>\n",
       "      <td>8652.926958</td>\n",
       "      <td>8642.611139</td>\n",
       "      <td>8646.492764</td>\n",
       "      <td>5.266846</td>\n",
       "      <td>45424.801897</td>\n",
       "      <td>8648.244324</td>\n",
       "      <td>-0.009118</td>\n",
       "    </tr>\n",
       "    <tr>\n",
       "      <th>2019-05-30</th>\n",
       "      <td>8632.830049</td>\n",
       "      <td>8639.281410</td>\n",
       "      <td>8625.838208</td>\n",
       "      <td>8631.688479</td>\n",
       "      <td>10.596936</td>\n",
       "      <td>90904.023772</td>\n",
       "      <td>8632.743964</td>\n",
       "      <td>-0.001712</td>\n",
       "    </tr>\n",
       "  </tbody>\n",
       "</table>\n",
       "</div>"
      ],
      "text/plain": [
       "                   Open         High          Low        Close  Volume_(BTC)  \\\n",
       "Timestamp                                                                      \n",
       "2019-05-26  8127.771225  8134.230105  8121.538305  8126.474769      5.971157   \n",
       "2019-05-27  8784.057257  8791.690368  8776.536090  8782.527847      6.213906   \n",
       "2019-05-28  8726.934920  8732.252926  8721.685156  8726.058610      4.269640   \n",
       "2019-05-29  8647.710014  8652.926958  8642.611139  8646.492764      5.266846   \n",
       "2019-05-30  8632.830049  8639.281410  8625.838208  8631.688479     10.596936   \n",
       "\n",
       "            Volume_(Currency)  Weighted_Price  Price_Pct_Change  \n",
       "Timestamp                                                        \n",
       "2019-05-26       50324.384244     8128.546958          0.010095  \n",
       "2019-05-27       54623.052149     8784.562189          0.080730  \n",
       "2019-05-28       37188.453180     8727.337766         -0.006430  \n",
       "2019-05-29       45424.801897     8648.244324         -0.009118  \n",
       "2019-05-30       90904.023772     8632.743964         -0.001712  "
      ]
     },
     "execution_count": 32,
     "metadata": {},
     "output_type": "execute_result"
    }
   ],
   "source": [
    "test_data.head()"
   ]
  },
  {
   "cell_type": "code",
   "execution_count": 33,
   "id": "e20f1c62",
   "metadata": {},
   "outputs": [
    {
     "data": {
      "text/plain": [
       "(676, 8)"
      ]
     },
     "execution_count": 33,
     "metadata": {},
     "output_type": "execute_result"
    }
   ],
   "source": [
    "test_data.shape"
   ]
  },
  {
   "cell_type": "code",
   "execution_count": 34,
   "id": "6d37aea9",
   "metadata": {
    "execution": {
     "iopub.execute_input": "2023-06-03T23:43:46.499648Z",
     "iopub.status.busy": "2023-06-03T23:43:46.499207Z",
     "iopub.status.idle": "2023-06-03T23:43:46.515965Z",
     "shell.execute_reply": "2023-06-03T23:43:46.514537Z"
    },
    "papermill": {
     "duration": 0.037248,
     "end_time": "2023-06-03T23:43:46.518996",
     "exception": false,
     "start_time": "2023-06-03T23:43:46.481748",
     "status": "completed"
    },
    "tags": []
   },
   "outputs": [],
   "source": [
    "# Scale the data\n",
    "scaler = MinMaxScaler()\n",
    "scaled_train_data = scaler.fit_transform(train_data[['Close']])\n",
    "scaled_test_data = scaler.transform(test_data[['Close']])"
   ]
  },
  {
   "cell_type": "code",
   "execution_count": 35,
   "id": "e059ae76",
   "metadata": {
    "execution": {
     "iopub.execute_input": "2023-06-03T23:43:46.553251Z",
     "iopub.status.busy": "2023-06-03T23:43:46.552784Z",
     "iopub.status.idle": "2023-06-03T23:43:46.822299Z",
     "shell.execute_reply": "2023-06-03T23:43:46.820897Z"
    },
    "papermill": {
     "duration": 0.290406,
     "end_time": "2023-06-03T23:43:46.825563",
     "exception": false,
     "start_time": "2023-06-03T23:43:46.535157",
     "status": "completed"
    },
    "tags": []
   },
   "outputs": [],
   "source": [
    "# ARIMA model\n",
    "arima_model = ARIMA(train_data['Close'], order=(1, 1, 1))\n",
    "arima_model_fit = arima_model.fit()\n",
    "arima_predictions = arima_model_fit.predict(start=len(train_data), end=len(train_data) + len(test_data) - 1)"
   ]
  },
  {
   "cell_type": "code",
   "execution_count": 36,
   "id": "6b491561",
   "metadata": {
    "execution": {
     "iopub.execute_input": "2023-06-03T23:43:46.858875Z",
     "iopub.status.busy": "2023-06-03T23:43:46.858444Z",
     "iopub.status.idle": "2023-06-03T23:44:01.967339Z",
     "shell.execute_reply": "2023-06-03T23:44:01.965990Z"
    },
    "papermill": {
     "duration": 15.129636,
     "end_time": "2023-06-03T23:44:01.970663",
     "exception": false,
     "start_time": "2023-06-03T23:43:46.841027",
     "status": "completed"
    },
    "tags": []
   },
   "outputs": [],
   "source": [
    "# SARIMA model\n",
    "sarima_model = SARIMAX(train_data['Close'], order=(1, 1, 1), seasonal_order=(0, 1, 1, 12))\n",
    "sarima_model_fit = sarima_model.fit()\n",
    "sarima_predictions = sarima_model_fit.predict(start=len(train_data), end=len(train_data) + len(test_data) - 1)"
   ]
  },
  {
   "cell_type": "code",
   "execution_count": 37,
   "id": "4821de64",
   "metadata": {
    "execution": {
     "iopub.execute_input": "2023-06-03T23:44:02.005864Z",
     "iopub.status.busy": "2023-06-03T23:44:02.005429Z",
     "iopub.status.idle": "2023-06-03T23:45:22.675010Z",
     "shell.execute_reply": "2023-06-03T23:45:22.673603Z"
    },
    "papermill": {
     "duration": 80.69085,
     "end_time": "2023-06-03T23:45:22.678244",
     "exception": false,
     "start_time": "2023-06-03T23:44:01.987394",
     "status": "completed"
    },
    "tags": []
   },
   "outputs": [
    {
     "name": "stdout",
     "output_type": "stream",
     "text": [
      "WARNING:tensorflow:From c:\\Users\\saidi\\AppData\\Local\\Programs\\Python\\Python311\\Lib\\site-packages\\keras\\src\\backend.py:873: The name tf.get_default_graph is deprecated. Please use tf.compat.v1.get_default_graph instead.\n",
      "\n",
      "WARNING:tensorflow:From c:\\Users\\saidi\\AppData\\Local\\Programs\\Python\\Python311\\Lib\\site-packages\\keras\\src\\optimizers\\__init__.py:309: The name tf.train.Optimizer is deprecated. Please use tf.compat.v1.train.Optimizer instead.\n",
      "\n",
      "WARNING:tensorflow:From c:\\Users\\saidi\\AppData\\Local\\Programs\\Python\\Python311\\Lib\\site-packages\\keras\\src\\utils\\tf_utils.py:492: The name tf.ragged.RaggedTensorValue is deprecated. Please use tf.compat.v1.ragged.RaggedTensorValue instead.\n",
      "\n",
      "22/22 [==============================] - 1s 3ms/step\n"
     ]
    }
   ],
   "source": [
    "# LSTM model\n",
    "def create_lstm_model():\n",
    "    model = Sequential()\n",
    "    model.add(LSTM(128, input_shape=(1, 1)))\n",
    "    model.add(Dense(1))\n",
    "    model.compile(loss='mean_squared_error', optimizer='adam')\n",
    "    return model\n",
    "\n",
    "lstm_model = create_lstm_model()\n",
    "lstm_history = lstm_model.fit(np.expand_dims(scaled_train_data, axis=-1),\n",
    "                              np.expand_dims(scaled_train_data, axis=-1),\n",
    "                              epochs=10, batch_size=1, verbose=0)\n",
    "lstm_predictions = lstm_model.predict(np.expand_dims(scaled_test_data, axis=-1))"
   ]
  },
  {
   "cell_type": "code",
   "execution_count": 38,
   "id": "da6ba7bb",
   "metadata": {
    "execution": {
     "iopub.execute_input": "2023-06-03T23:45:22.713145Z",
     "iopub.status.busy": "2023-06-03T23:45:22.711669Z",
     "iopub.status.idle": "2023-06-03T23:45:22.898918Z",
     "shell.execute_reply": "2023-06-03T23:45:22.897301Z"
    },
    "papermill": {
     "duration": 0.207925,
     "end_time": "2023-06-03T23:45:22.902224",
     "exception": false,
     "start_time": "2023-06-03T23:45:22.694299",
     "status": "completed"
    },
    "tags": []
   },
   "outputs": [],
   "source": [
    "# Gradient Boosting Regressor model\n",
    "gbr_model = GradientBoostingRegressor()\n",
    "gbr_model.fit(np.arange(len(train_data)).reshape(-1, 1), train_data['Close'])\n",
    "gbr_predictions = gbr_model.predict(np.arange(len(train_data), len(train_data) + len(test_data)).reshape(-1, 1))"
   ]
  },
  {
   "cell_type": "code",
   "execution_count": 39,
   "id": "e2db264d",
   "metadata": {
    "execution": {
     "iopub.execute_input": "2023-06-03T23:45:22.936278Z",
     "iopub.status.busy": "2023-06-03T23:45:22.935789Z",
     "iopub.status.idle": "2023-06-03T23:45:22.949609Z",
     "shell.execute_reply": "2023-06-03T23:45:22.947878Z"
    },
    "papermill": {
     "duration": 0.034529,
     "end_time": "2023-06-03T23:45:22.952390",
     "exception": false,
     "start_time": "2023-06-03T23:45:22.917861",
     "status": "completed"
    },
    "tags": []
   },
   "outputs": [
    {
     "name": "stdout",
     "output_type": "stream",
     "text": [
      "ARIMA RMSE: 14490.546813774563\n",
      "SARIMA RMSE: 13692.214196943789\n",
      "LSTM RMSE: 19658.405688715047\n",
      "Gradient Boosting Regressor RMSE: 14573.196791659071\n"
     ]
    }
   ],
   "source": [
    "# Calculate RMSE for each model\n",
    "arima_rmse = np.sqrt(mean_squared_error(test_data['Close'], arima_predictions))\n",
    "sarima_rmse = np.sqrt(mean_squared_error(test_data['Close'], sarima_predictions))\n",
    "lstm_rmse = np.sqrt(mean_squared_error(test_data['Close'], lstm_predictions))\n",
    "gbr_rmse = np.sqrt(mean_squared_error(test_data['Close'], gbr_predictions))\n",
    "\n",
    "# Print the RMSE values\n",
    "print(f\"ARIMA RMSE: {arima_rmse}\")\n",
    "print(f\"SARIMA RMSE: {sarima_rmse}\")\n",
    "print(f\"LSTM RMSE: {lstm_rmse}\")\n",
    "print(f\"Gradient Boosting Regressor RMSE: {gbr_rmse}\")"
   ]
  },
  {
   "cell_type": "code",
   "execution_count": 41,
   "id": "9e641b8c",
   "metadata": {},
   "outputs": [
    {
     "data": {
      "image/png": "[encoded data removed]",
      "text/plain": [
       "<Figure size 1000x500 with 1 Axes>"
      ]
     },
     "metadata": {},
     "output_type": "display_data"
    }
   ],
   "source": [
    "# Plot the predictions\n",
    "plt.figure(figsize=(10, 5))\n",
    "plt.plot(test_data.index, test_data['Close'], label='Actual')\n",
    "plt.plot(test_data.index, arima_predictions, label='ARIMA')\n",
    "plt.plot(test_data.index, sarima_predictions, label='SARIMA')\n",
    "plt.plot(test_data.index, lstm_predictions, label='LSTM')\n",
    "plt.plot(test_data.index, gbr_predictions, label='Gradient Boosting Regressor')\n",
    "plt.title('Bitcoin Price Predictions')\n",
    "plt.xlabel('Time')\n",
    "plt.ylabel('Price')\n",
    "plt.xticks(rotation=45)\n",
    "plt.legend()\n",
    "plt.grid(True)\n",
    "plt.show()"
   ]
  },
  {
   "cell_type": "code",
   "execution_count": 40,
   "id": "d5d30e82",
   "metadata": {
    "execution": {
     "iopub.execute_input": "2023-06-03T23:45:22.987047Z",
     "iopub.status.busy": "2023-06-03T23:45:22.986270Z",
     "iopub.status.idle": "2023-06-03T23:45:23.320450Z",
     "shell.execute_reply": "2023-06-03T23:45:23.319529Z"
    },
    "papermill": {
     "duration": 0.354097,
     "end_time": "2023-06-03T23:45:23.322669",
     "exception": false,
     "start_time": "2023-06-03T23:45:22.968572",
     "status": "completed"
    },
    "tags": []
   },
   "outputs": [
    {
     "data": {
      "image/png": "[encoded data removed]",
      "text/plain": [
       "<Figure size 1000x600 with 1 Axes>"
      ]
     },
     "metadata": {},
     "output_type": "display_data"
    }
   ],
   "source": [
    "# Define the models and RMSE values\n",
    "models = ['ARIMA', 'SARIMA', 'LSTM', 'Gradient Boosting Regressor']\n",
    "rmse_values = [arima_rmse, sarima_rmse, lstm_rmse, gbr_rmse]\n",
    "\n",
    "# Plot the bar graph\n",
    "plt.figure(figsize=(10, 6))\n",
    "plt.bar(models, rmse_values)\n",
    "plt.title('RMSE Comparison of Prediction Models')\n",
    "plt.xlabel('Model')\n",
    "plt.ylabel('RMSE')\n",
    "plt.xticks(rotation=45)\n",
    "plt.grid(True)\n",
    "plt.show()\n"
   ]
  }
 ],
 "metadata": {
  "kernelspec": {
   "display_name": "Python 3",
   "language": "python",
   "name": "python3"
  },
  "language_info": {
   "codemirror_mode": {
    "name": "ipython",
    "version": 3
   },
   "file_extension": ".py",
   "mimetype": "text/x-python",
   "name": "python",
   "nbconvert_exporter": "python",
   "pygments_lexer": "ipython3",
   "version": "3.11.4"
  },
  "papermill": {
   "default_parameters": {},
   "duration": 183.882171,
   "end_time": "2023-06-03T23:45:26.620175",
   "environment_variables": {},
   "exception": null,
   "input_path": "__notebook__.ipynb",
   "output_path": "__notebook__.ipynb",
   "parameters": {},
   "start_time": "2023-06-03T23:42:22.738004",
   "version": "2.4.0"
  }
 },
 "nbformat": 4,
 "nbformat_minor": 5
}
